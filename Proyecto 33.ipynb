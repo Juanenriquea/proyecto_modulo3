{
 "cells": [
  {
   "cell_type": "markdown",
   "metadata": {},
   "source": [
    "# Ecuación de doble Péndulo "
   ]
  },
  {
   "cell_type": "markdown",
   "metadata": {},
   "source": [
    "## Objetivos"
   ]
  },
  {
   "cell_type": "markdown",
   "metadata": {},
   "source": [
    "## Objetivo General\n",
    "\n",
    "Visualizar gráficamente como se comporta un doble péndulo"
   ]
  },
  {
   "cell_type": "markdown",
   "metadata": {},
   "source": [
    "## Objetivos Específicos\n",
    "\n",
    "* Estudiar el comportamiento de un doble péndulo, en base a diferentes condiciones iniciales\n",
    "* Utilizar odeint para realizar aproximaciones numéricas de la ecuación diferencial de un doble péndulo"
   ]
  },
  {
   "cell_type": "markdown",
   "metadata": {},
   "source": [
    "## Modelo que representa el problema\n",
    "\n",
    "**Ecuaciones de movimiento**\n",
    "\n",
    "{\\displaystyle {\\ddot {\\theta }}_{1}={\\frac {-g(2m_{1}+m_{2})\\sin \\theta _{1}-m_{2}g\\sin(\\theta _{1}-2\\theta _{2})-2\\sin(\\theta _{1}-\\theta _{2})m_{2}({\\dot {\\theta }}_{2}^{2}l_{2}+{\\dot {\\theta }}_{1}^{2}l_{1}\\cos(\\theta _{1}-\\theta _{2}))}{l_{1}(2m_{1}+m_{2}-m_{2}\\cos(2\\theta _{1}-2\\theta _{2}))}}}\n",
    "{\\displaystyle {\\ddot {\\theta }}_{2}={\\frac {2\\sin(\\theta _{1}-\\theta _{2})({\\dot {\\theta }}_{1}^{2}l_{1}(m_{1}+m_{2})+g(m_{1}+m_{2})\\cos \\theta _{1}+{\\dot {\\theta }}_{2}^{2}l_{2}m_{2}\\cos(\\theta _{1}-\\theta _{2}))}{l_{2}(2m_{1}+m_{2}-m_{2}\\cos(2\\theta _{1}-2\\theta _{2}))}}}{\\displaystyle {\\ddot {\\theta }}_{2}={\\frac {2\\sin(\\theta _{1}-\\theta _{2})({\\dot {\\theta }}_{1}^{2}l_{1}(m_{1}+m_{2})+g(m_{1}+m_{2})\\cos \\theta _{1}+{\\dot {\\theta }}_{2}^{2}l_{2}m_{2}\\cos(\\theta _{1}-\\theta _{2}))}{l_{2}(2m_{1}+m_{2}-m_{2}\\cos(2\\theta _{1}-2\\theta _{2}))}}}"
   ]
  },
  {
   "cell_type": "markdown",
   "metadata": {},
   "source": [
    "## Simulaciones"
   ]
  },
  {
   "cell_type": "code",
   "execution_count": null,
   "metadata": {},
   "outputs": [],
   "source": []
  },
  {
   "cell_type": "code",
   "execution_count": null,
   "metadata": {},
   "outputs": [],
   "source": []
  },
  {
   "cell_type": "code",
   "execution_count": null,
   "metadata": {},
   "outputs": [],
   "source": []
  },
  {
   "cell_type": "markdown",
   "metadata": {},
   "source": [
    "## Visualización de resultados de simulación"
   ]
  },
  {
   "cell_type": "code",
   "execution_count": null,
   "metadata": {},
   "outputs": [],
   "source": []
  },
  {
   "cell_type": "code",
   "execution_count": null,
   "metadata": {},
   "outputs": [],
   "source": []
  },
  {
   "cell_type": "code",
   "execution_count": null,
   "metadata": {},
   "outputs": [],
   "source": []
  },
  {
   "cell_type": "markdown",
   "metadata": {},
   "source": [
    "## Conclusiones\n",
    "\n",
    "En base al código ejecutado y a lo que leímos referente al tema, esto es parte de el teorema del Caos. En el cuál el doble péndulo es el ejemplo más simple de movimiento caótico. Esto último es la razón por la cual las gráficas no son tan \"bonitas/uniformes\", sino que son \"caóticas\". Esto quiere decir que es un sistema que se commporta drasticamente distinto con pequeñas variaciones inciales.\n",
    "\n",
    "Además, "
   ]
  },
  {
   "cell_type": "markdown",
   "metadata": {},
   "source": [
    "## Referencias\n",
    "\n",
    "S.A. (2019). Doble Péndulo. Recuperado de https://es.wikipedia.org/wiki/Doble_péndulo"
   ]
  },
  {
   "cell_type": "code",
   "execution_count": null,
   "metadata": {},
   "outputs": [],
   "source": []
  },
  {
   "cell_type": "code",
   "execution_count": null,
   "metadata": {},
   "outputs": [],
   "source": []
  },
  {
   "cell_type": "code",
   "execution_count": null,
   "metadata": {},
   "outputs": [],
   "source": []
  },
  {
   "cell_type": "code",
   "execution_count": null,
   "metadata": {},
   "outputs": [],
   "source": []
  },
  {
   "cell_type": "code",
   "execution_count": null,
   "metadata": {},
   "outputs": [],
   "source": []
  },
  {
   "cell_type": "code",
   "execution_count": null,
   "metadata": {},
   "outputs": [],
   "source": []
  },
  {
   "cell_type": "code",
   "execution_count": null,
   "metadata": {},
   "outputs": [],
   "source": []
  },
  {
   "cell_type": "code",
   "execution_count": null,
   "metadata": {},
   "outputs": [],
   "source": []
  }
 ],
 "metadata": {
  "kernelspec": {
   "display_name": "Python 3",
   "language": "python",
   "name": "python3"
  },
  "language_info": {
   "codemirror_mode": {
    "name": "ipython",
    "version": 3
   },
   "file_extension": ".py",
   "mimetype": "text/x-python",
   "name": "python",
   "nbconvert_exporter": "python",
   "pygments_lexer": "ipython3",
   "version": "3.7.3"
  }
 },
 "nbformat": 4,
 "nbformat_minor": 2
}
